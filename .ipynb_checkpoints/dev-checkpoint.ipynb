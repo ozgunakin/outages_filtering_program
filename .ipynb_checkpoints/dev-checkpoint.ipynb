{
 "cells": [
  {
   "cell_type": "code",
   "execution_count": 291,
   "id": "1de153d1",
   "metadata": {},
   "outputs": [],
   "source": [
    "# LIBRARY IMPORT\n",
    "import requests\n",
    "import json\n",
    "from datetime import datetime\n",
    "\n",
    "\n",
    "# GLOBAL VARIABLES\n",
    "site_id = \"norwich-pear-tree\"\n",
    "base_url = 'https://api.krakenflex.systems/interview-tests-mock-api/v1/'\n",
    "headers = {'Accept': 'application/json', \n",
    "           \"x-api-key\": \"EltgJ5G8m44IzwE6UN2Y4B4NjPW77Zk6FJK3lL23\", \n",
    "           \"Content-Type\": \"application/json\"}\n",
    "\n",
    "outages_endpoint = base_url + \"outages\"\n",
    "site_info_endpoint = base_url + \"site-info\"\n",
    "site_outages_endpoint = base_url + \"site-outages\"\n",
    "\n",
    "outages_req = requests.get(outages_endpoint, headers=headers)\n",
    "outages = outages_req.json()\n",
    "\n",
    "site_info_req = requests.get(site_info_endpoint+ \"/\" +site_id, headers=headers)\n",
    "site_info = site_info_req.json()"
   ]
  },
  {
   "cell_type": "code",
   "execution_count": 285,
   "id": "618889ba",
   "metadata": {},
   "outputs": [],
   "source": [
    "# PROGRAM START\n",
    "date_filter = \"2022-01-01T00:00:00.000Z\"\n",
    "date_filter_dt = datetime.strptime(date_filter, '%Y-%m-%dT%H:%M:%S.%fZ')\n",
    "\n",
    "site_outages = []\n",
    "for outage in outages:\n",
    "    ou_id = outage[\"id\"]\n",
    "    ou_begin = outage[\"begin\"]\n",
    "    ou_begin_dt = datetime.strptime(ou_begin, '%Y-%m-%dT%H:%M:%S.%fZ')\n",
    "    device_name = [a[\"name\"] for a in site_info[\"devices\"] if a['id']==ou_id]\n",
    "\n",
    "    if ou_begin_dt >= date_filter_dt and len(device_name)>0:\n",
    "        outage.update({\"name\": device_name[0]})      \n",
    "        new_outage = {\"id\":outage[\"id\"],\n",
    "                      \"name\":outage[\"name\"],\n",
    "                      \"begin\":outage[\"begin\"],\n",
    "                      \"end\":outage[\"end\"]}\n",
    "        \n",
    "        site_outages.append(new_outage)\n",
    "\n",
    "site_outages_json = json.dumps(site_outages)"
   ]
  },
  {
   "cell_type": "code",
   "execution_count": 287,
   "id": "888b03ee",
   "metadata": {},
   "outputs": [],
   "source": [
    "url = site_outages_endpoint+ \"/\" +site_id\n",
    "resp = requests.post(url = url , headers = headers, data = site_outages_json)"
   ]
  },
  {
   "cell_type": "code",
   "execution_count": 288,
   "id": "78496cbe",
   "metadata": {},
   "outputs": [
    {
     "data": {
      "text/plain": [
       "'{}'"
      ]
     },
     "execution_count": 288,
     "metadata": {},
     "output_type": "execute_result"
    }
   ],
   "source": [
    "resp.text"
   ]
  },
  {
   "cell_type": "code",
   "execution_count": 289,
   "id": "7e4cfd35",
   "metadata": {
    "scrolled": true
   },
   "outputs": [
    {
     "data": {
      "text/plain": [
       "<Response [200]>"
      ]
     },
     "execution_count": 289,
     "metadata": {},
     "output_type": "execute_result"
    }
   ],
   "source": [
    "resp"
   ]
  },
  {
   "cell_type": "code",
   "execution_count": null,
   "id": "30366f1e",
   "metadata": {},
   "outputs": [],
   "source": []
  },
  {
   "cell_type": "code",
   "execution_count": null,
   "id": "56366a1a",
   "metadata": {},
   "outputs": [],
   "source": []
  },
  {
   "cell_type": "code",
   "execution_count": 294,
   "id": "9f21db8f",
   "metadata": {},
   "outputs": [],
   "source": [
    "# METHOD PANDAS\n",
    "import pandas as pd\n",
    "outages_df = pd.DataFrame(outages)\n",
    "site_info_df = pd.DataFrame(site_info[\"devices\"])\n",
    "merged = outages_df.merge(site_info_df, how=\"left\",on=\"id\")\n",
    "merged = merged.dropna()\n",
    "merged[\"begin2\"] = merged[\"begin\"].apply(lambda x: datetime.strptime(x, '%Y-%m-%dT%H:%M:%S.%fZ'))\n",
    "merged = merged[merged[\"begin2\"]>date_filter_dt]\n",
    "merged=merged[[\"id\",\"name\",\"begin\",\"end\"]]\n",
    "result_json = merged.to_json(orient=\"records\")"
   ]
  },
  {
   "cell_type": "code",
   "execution_count": null,
   "id": "d015115d",
   "metadata": {},
   "outputs": [],
   "source": []
  }
 ],
 "metadata": {
  "kernelspec": {
   "display_name": "Python 3",
   "language": "python",
   "name": "python3"
  },
  "language_info": {
   "codemirror_mode": {
    "name": "ipython",
    "version": 3
   },
   "file_extension": ".py",
   "mimetype": "text/x-python",
   "name": "python",
   "nbconvert_exporter": "python",
   "pygments_lexer": "ipython3",
   "version": "3.8.8"
  }
 },
 "nbformat": 4,
 "nbformat_minor": 5
}
