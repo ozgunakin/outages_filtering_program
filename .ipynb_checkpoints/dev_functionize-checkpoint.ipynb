{
 "cells": [
  {
   "cell_type": "code",
   "execution_count": 1,
   "id": "1de153d1",
   "metadata": {},
   "outputs": [],
   "source": [
    "# LIBRARY IMPORT\n",
    "import requests\n",
    "import json\n",
    "from datetime import datetime\n",
    "import conf"
   ]
  },
  {
   "cell_type": "code",
   "execution_count": 2,
   "id": "31689bc2",
   "metadata": {},
   "outputs": [],
   "source": [
    "# Define global variables\n",
    "outages_url = conf.outages_url\n",
    "site_info_url = conf.site_info_url\n",
    "api_headers = conf.headers\n",
    "date_filter = conf.date_filter\n",
    "results_url = conf.results_url"
   ]
  },
  {
   "cell_type": "code",
   "execution_count": 6,
   "id": "186df086",
   "metadata": {},
   "outputs": [],
   "source": [
    "# User Defined Functions\n",
    "def read_outages(outages_url: str, api_headers: dict):\n",
    "    outages_req = requests.get(outages_url, headers = api_headers)\n",
    "    if outages_req.status_code == 200:\n",
    "        outages = outages_req.json()\n",
    "        return {\"message\": \"Success\", \"status\":200, \"data\": outages}\n",
    "\n",
    "    else :\n",
    "        response_json = json.loads(outages_req.text)\n",
    "        return {\"message\": response_json[\"message\"], \"status\": outages_req.status_code, \"data\":[]}\n",
    "    \n",
    "def read_site_info(site_info_url: str, api_headers: dict):\n",
    "    site_info_req = requests.get(site_info_url, headers = api_headers)\n",
    "    if site_info_req.status_code == 200:\n",
    "        site_info = site_info_req.json()\n",
    "        return {\"message\": \"Success\", \"status\":200, \"data\": site_info}\n",
    "\n",
    "    else :\n",
    "        response_json = json.loads(site_info_req.text)\n",
    "        return {\"message\": response_json[\"message\"], \"status\": site_info_req.status_code, \"data\":[]}\n",
    "\n",
    "    \n",
    "def filter_and_enhance_outages(outages: dict, site_info: dict, date_filter: str):\n",
    "    \n",
    "    date_filter_dt = datetime.strptime(date_filter, '%Y-%m-%dT%H:%M:%S.%fZ')\n",
    "    \n",
    "    site_outages = []\n",
    "    for outage in outages:\n",
    "        ou_id = outage[\"id\"]\n",
    "        ou_begin = outage[\"begin\"]\n",
    "        ou_begin_dt = datetime.strptime(ou_begin, '%Y-%m-%dT%H:%M:%S.%fZ')\n",
    "        device_name = [a[\"name\"] for a in site_info[\"devices\"] if a['id']==ou_id]\n",
    "\n",
    "        if ou_begin_dt >= date_filter_dt and len(device_name)>0:\n",
    "            outage.update({\"name\": device_name[0]})      \n",
    "            new_outage = {\"id\":outage[\"id\"],\n",
    "                          \"name\":outage[\"name\"],\n",
    "                          \"begin\":outage[\"begin\"],\n",
    "                          \"end\":outage[\"end\"]}\n",
    "\n",
    "            site_outages.append(new_outage)\n",
    "\n",
    "    enhanced_outages = json.dumps(site_outages)\n",
    "    \n",
    "    return enhanced_outages\n",
    "\n",
    "\n",
    "def post_outage_results(api_url, api_headers, result_data: dict):\n",
    "    resp = requests.post(url = api_url , headers = api_headers, data = result_data)\n",
    "    \n",
    "    if resp.status_code == 200:\n",
    "        return {\"message\": \"Success\", \"status\" : resp.status_code}\n",
    "    \n",
    "    else:\n",
    "        response_json = json.loads(resp.text)\n",
    "        return {\"message\": response_json[\"message\"], \"status\" : resp.status_code}"
   ]
  },
  {
   "cell_type": "code",
   "execution_count": 7,
   "id": "d68cd10c",
   "metadata": {},
   "outputs": [],
   "source": [
    "def main():\n",
    "    # Read Outages Data\n",
    "    outages = read_outages(outages_url , api_headers)\n",
    "    if outages[\"status\"] != 200:\n",
    "         return {\"message\": \"Outages API Failure : {}\".format(outages[\"message\"]), \"status\": outages[\"status\"]}\n",
    "        \n",
    "    # Read Site Info Data\n",
    "    site_info = read_site_info(site_info_url , api_headers)\n",
    "    if site_info[\"status\"] != 200:\n",
    "         return {\"message\": \"Site Info API Failure : {}\".format(site_info[\"message\"]), \"status\": site_info[\"status\"]}\n",
    "\n",
    "    # Filter and Process\n",
    "    try:\n",
    "        enhanced_outages = filter_and_enhance_outages(outages = outages[\"data\"], site_info = site_info[\"data\"], date_filter = date_filter)\n",
    "    except:\n",
    "        return {\"message\": \"Data Processing Failure\", \"status\": 500}\n",
    "    \n",
    "    # Post Results\n",
    "    post_response = post_outage_results(api_url = results_url, api_headers = api_headers, result_data = enhanced_outages)\n",
    "    if post_response[\"status\"] != 200:\n",
    "        return {\"message\": \"Post API Failure : {}\".format(post_response[\"message\"]), \"status\": post_response[\"status\"]}\n",
    "    \n",
    "    return post_response"
   ]
  },
  {
   "cell_type": "code",
   "execution_count": 11,
   "id": "c87c358d",
   "metadata": {},
   "outputs": [
    {
     "name": "stdout",
     "output_type": "stream",
     "text": [
      "{'message': 'Success', 'status': 200}\n"
     ]
    }
   ],
   "source": [
    "if __name__ == \"__main__\":\n",
    "    result = main()\n",
    "    print(result)"
   ]
  },
  {
   "cell_type": "code",
   "execution_count": null,
   "id": "faefc63c",
   "metadata": {},
   "outputs": [],
   "source": []
  }
 ],
 "metadata": {
  "kernelspec": {
   "display_name": "Python 3",
   "language": "python",
   "name": "python3"
  },
  "language_info": {
   "codemirror_mode": {
    "name": "ipython",
    "version": 3
   },
   "file_extension": ".py",
   "mimetype": "text/x-python",
   "name": "python",
   "nbconvert_exporter": "python",
   "pygments_lexer": "ipython3",
   "version": "3.8.8"
  }
 },
 "nbformat": 4,
 "nbformat_minor": 5
}
